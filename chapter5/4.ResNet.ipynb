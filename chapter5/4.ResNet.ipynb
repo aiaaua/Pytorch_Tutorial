{
 "cells": [
  {
   "cell_type": "markdown",
   "metadata": {},
   "source": [
    "#### download"
   ]
  },
  {
   "cell_type": "code",
   "execution_count": 1,
   "metadata": {},
   "outputs": [],
   "source": [
    "import os\n",
    "\n",
    "try:\n",
    "    os.mkdir(\"images\")\n",
    "    os.mkdir(\"images/dogs\")\n",
    "    os.mkdir(\"images/cats\")\n",
    "except:\n",
    "    pass"
   ]
  },
  {
   "cell_type": "code",
   "execution_count": 2,
   "metadata": {},
   "outputs": [
    {
     "name": "stdout",
     "output_type": "stream",
     "text": [
      "--2021-02-05 17:33:55--  https://i.kinja-img.com/gawker-media/image/upload/s--WFkXeene--/c_scale,f_auto,fl_progressive,q_80,w_800/ol9ceoqxidudap8owlwn.jpg\n",
      "Resolving i.kinja-img.com (i.kinja-img.com)... 151.101.194.166, 151.101.66.166, 151.101.130.166, ...\n",
      "접속 i.kinja-img.com (i.kinja-img.com)|151.101.194.166|:443... 접속됨.\n",
      "HTTP request sent, awaiting response... 200 OK\n",
      "Length: 32099 (31K) [image/jpeg]\n",
      "Saving to: ‘images/dogs/ol9ceoqxidudap8owlwn.jpg.1’\n",
      "\n",
      "ol9ceoqxidudap8owlw 100%[===================>]  31.35K  --.-KB/s    in 0.02s   \n",
      "\n",
      "2021-02-05 17:33:55 (1.23 MB/s) - ‘images/dogs/ol9ceoqxidudap8owlwn.jpg.1’ saved [32099/32099]\n",
      "\n",
      "--2021-02-05 17:33:55--  https://www.rspcansw.org.au/wp-content/uploads/2017/08/50_a-feature_dogs-and-puppies_mobile.jpg\n",
      "Resolving www.rspcansw.org.au (www.rspcansw.org.au)... 101.0.86.38\n",
      "접속 www.rspcansw.org.au (www.rspcansw.org.au)|101.0.86.38|:443... 접속됨.\n",
      "HTTP request sent, awaiting response... 200 OK\n",
      "Length: 130940 (128K) [image/jpeg]\n",
      "Saving to: ‘images/dogs/50_a-feature_dogs-and-puppies_mobile.jpg.1’\n",
      "\n",
      "50_a-feature_dogs-a 100%[===================>] 127.87K   219KB/s    in 0.6s    \n",
      "\n",
      "2021-02-05 17:33:57 (219 KB/s) - ‘images/dogs/50_a-feature_dogs-and-puppies_mobile.jpg.1’ saved [130940/130940]\n",
      "\n"
     ]
    }
   ],
   "source": [
    "!wget https://i.kinja-img.com/gawker-media/image/upload/s--WFkXeene--/c_scale,f_auto,fl_progressive,q_80,w_800/ol9ceoqxidudap8owlwn.jpg -P images/dogs\n",
    "!wget https://www.rspcansw.org.au/wp-content/uploads/2017/08/50_a-feature_dogs-and-puppies_mobile.jpg -P images/dogs"
   ]
  },
  {
   "cell_type": "code",
   "execution_count": 3,
   "metadata": {},
   "outputs": [
    {
     "name": "stdout",
     "output_type": "stream",
     "text": [
      "--2021-02-05 17:33:58--  https://www.catster.com/wp-content/uploads/2018/05/A-gray-cat-crying-looking-upset.jpg\n",
      "Resolving www.catster.com (www.catster.com)... 192.124.249.102\n",
      "접속 www.catster.com (www.catster.com)|192.124.249.102|:443... 접속됨.\n",
      "HTTP request sent, awaiting response... 200 OK\n",
      "Length: 165145 (161K) [image/jpeg]\n",
      "Saving to: ‘images/cats/A-gray-cat-crying-looking-upset.jpg.1’\n",
      "\n",
      "A-gray-cat-crying-l 100%[===================>] 161.27K   736KB/s    in 0.2s    \n",
      "\n",
      "2021-02-05 17:33:58 (736 KB/s) - ‘images/cats/A-gray-cat-crying-looking-upset.jpg.1’ saved [165145/165145]\n",
      "\n",
      "--2021-02-05 17:33:58--  https://www.scarymommy.com/wp-content/uploads/2018/01/c1.jpg?w=700\n",
      "Resolving www.scarymommy.com (www.scarymommy.com)... 141.193.213.21, 141.193.213.20\n",
      "접속 www.scarymommy.com (www.scarymommy.com)|141.193.213.21|:443... 접속됨.\n",
      "HTTP request sent, awaiting response... 200 OK\n",
      "Length: 1892233 (1.8M) [image/jpeg]\n",
      "Saving to: ‘images/cats/c1.jpg?w=700.1’\n",
      "\n",
      "c1.jpg?w=700.1      100%[===================>]   1.80M  2.59MB/s    in 0.7s    \n",
      "\n",
      "2021-02-05 17:33:59 (2.59 MB/s) - ‘images/cats/c1.jpg?w=700.1’ saved [1892233/1892233]\n",
      "\n"
     ]
    }
   ],
   "source": [
    "!wget https://www.catster.com/wp-content/uploads/2018/05/A-gray-cat-crying-looking-upset.jpg -P images/cats\n",
    "!wget https://www.scarymommy.com/wp-content/uploads/2018/01/c1.jpg?w=700 -P images/cats"
   ]
  },
  {
   "cell_type": "markdown",
   "metadata": {},
   "source": [
    "#### module"
   ]
  },
  {
   "cell_type": "code",
   "execution_count": 4,
   "metadata": {},
   "outputs": [],
   "source": [
    "import numpy as np\n",
    "import matplotlib.pyplot as plt\n",
    "import torch\n",
    "import torch.nn as nn\n",
    "import torch.optim as optim\n",
    "import torch.nn.init as init\n",
    "import torch.utils.data as data\n",
    "import torchvision.datasets as dset\n",
    "import torchvision.transforms as transforms"
   ]
  },
  {
   "cell_type": "code",
   "execution_count": 5,
   "metadata": {},
   "outputs": [
    {
     "data": {
      "text/plain": [
       "device(type='cuda', index=0)"
      ]
     },
     "execution_count": 5,
     "metadata": {},
     "output_type": "execute_result"
    }
   ],
   "source": [
    "device = torch.device(\"cuda:0\" if torch.cuda.is_available() else \"cpu\")\n",
    "device"
   ]
  },
  {
   "cell_type": "markdown",
   "metadata": {},
   "source": [
    "#### hyper-parameters"
   ]
  },
  {
   "cell_type": "code",
   "execution_count": 6,
   "metadata": {},
   "outputs": [],
   "source": [
    "batch_size = 1\n",
    "learning_rate = 0.0002\n",
    "num_epoch = 100"
   ]
  },
  {
   "cell_type": "markdown",
   "metadata": {},
   "source": [
    "#### dataset"
   ]
  },
  {
   "cell_type": "code",
   "execution_count": 7,
   "metadata": {},
   "outputs": [],
   "source": [
    "root_dir = \"./images\""
   ]
  },
  {
   "cell_type": "code",
   "execution_count": 8,
   "metadata": {},
   "outputs": [],
   "source": [
    "img_data = dset.ImageFolder(root_dir, transforms.Compose([\n",
    "                                    transforms.Resize(256),\n",
    "                                    transforms.RandomResizedCrop(224),\n",
    "                                    transforms.RandomHorizontalFlip(),\n",
    "                                    transforms.ToTensor(),\n",
    "                            ]))"
   ]
  },
  {
   "cell_type": "code",
   "execution_count": 9,
   "metadata": {},
   "outputs": [],
   "source": [
    "train_loader = data.DataLoader(img_data, batch_size=batch_size, shuffle=True, num_workers=2)"
   ]
  },
  {
   "cell_type": "markdown",
   "metadata": {},
   "source": [
    "#### model"
   ]
  },
  {
   "cell_type": "code",
   "execution_count": 10,
   "metadata": {},
   "outputs": [],
   "source": [
    "# 1*1 합성곱\n",
    "def conv_block_1(in_dim, out_dim, act_fn, stride=1):\n",
    "    model = nn.Sequential(\n",
    "            nn.Conv2d(in_dim, out_dim, kernel_size=1, stride=stride),\n",
    "            act_fn,\n",
    "            )\n",
    "    return model\n",
    "\n",
    "def conv_block_3(in_dim, out_dim, act_fn):\n",
    "    model = nn.Sequential(\n",
    "            nn.Conv2d(in_dim, out_dim, kernel_size=3, stride=1, padding=1),\n",
    "            act_fn,\n",
    "            )\n",
    "    return model"
   ]
  },
  {
   "cell_type": "code",
   "execution_count": 11,
   "metadata": {},
   "outputs": [],
   "source": [
    "class BottleNeck(nn.Module):\n",
    "    def __init__(self, in_dim, mid_dim, out_dim, act_fn, down=False):\n",
    "        super(BottleNeck, self).__init__()\n",
    "        self.down = down\n",
    "        \n",
    "        if self.down:\n",
    "            self.layer = nn.Sequential(\n",
    "                            conv_block_1(in_dim, mid_dim, act_fn, 2),\n",
    "                            conv_block_3(mid_dim, mid_dim, act_fn),\n",
    "                            conv_block_1(mid_dim, out_dim, act_fn),\n",
    "                            )\n",
    "            self.downsample = nn.Conv2d(in_dim, out_dim, 1, 2)\n",
    "        \n",
    "        else:\n",
    "            self.layer = nn.Sequential(\n",
    "                            conv_block_1(in_dim, mid_dim, act_fn),\n",
    "                            conv_block_3(mid_dim, mid_dim, act_fn),\n",
    "                            conv_block_1(mid_dim, out_dim, act_fn),\n",
    "                            )\n",
    "            \n",
    "        self.dim_equalizer = nn.Conv2d(in_dim, out_dim, kernel_size=1)\n",
    "        \n",
    "    def forward(self, x):\n",
    "        if self.down:\n",
    "            downsample = self.downsample(x)\n",
    "            out = self.layer(x)\n",
    "            out = out + downsample\n",
    "        \n",
    "        else:\n",
    "            out = self.layer(x)\n",
    "            if x.size() is not out.size():\n",
    "                x = self.dim_equalizer(x)\n",
    "            out = out + x\n",
    "        return out"
   ]
  },
  {
   "cell_type": "code",
   "execution_count": 12,
   "metadata": {},
   "outputs": [],
   "source": [
    "class ResNet(nn.Module):\n",
    "    def __init__(self, base_dim, num_classes=2):\n",
    "        super(ResNet, self).__init__()\n",
    "        self.act_fn = nn.ReLU()\n",
    "        self.layer1 = nn.Sequential(\n",
    "                        nn.Conv2d(3, base_dim, 7, 2, 3),\n",
    "                        nn.ReLU(),\n",
    "                        nn.MaxPool2d(3, 2, 1),\n",
    "                        )\n",
    "        self.layer2 = nn.Sequential(\n",
    "                        BottleNeck(base_dim, base_dim, 4*base_dim, self.act_fn),\n",
    "                        BottleNeck(4*base_dim, base_dim, 4*base_dim, self.act_fn),\n",
    "                        BottleNeck(4*base_dim, base_dim, 4*base_dim, self.act_fn, down=True),\n",
    "                        )\n",
    "        self.layer3 = nn.Sequential(\n",
    "                        BottleNeck(4*base_dim, 2*base_dim, 8*base_dim, self.act_fn),\n",
    "                        BottleNeck(8*base_dim, 2*base_dim, 8*base_dim, self.act_fn),\n",
    "                        BottleNeck(8*base_dim, 2*base_dim, 8*base_dim, self.act_fn),\n",
    "                        BottleNeck(8*base_dim, 2*base_dim, 8*base_dim, self.act_fn, down=True),\n",
    "                        )\n",
    "        self.layer4 = nn.Sequential(\n",
    "                        BottleNeck(8*base_dim, 4*base_dim, 16*base_dim, self.act_fn),\n",
    "                        BottleNeck(16*base_dim, 4*base_dim, 16*base_dim, self.act_fn),\n",
    "                        BottleNeck(16*base_dim, 4*base_dim, 16*base_dim, self.act_fn),\n",
    "                        BottleNeck(16*base_dim, 4*base_dim, 16*base_dim, self.act_fn),\n",
    "                        BottleNeck(16*base_dim, 4*base_dim, 16*base_dim, self.act_fn),\n",
    "                        BottleNeck(16*base_dim, 4*base_dim, 16*base_dim, self.act_fn, down=True),\n",
    "                        )\n",
    "        self.layer5 = nn.Sequential(\n",
    "                        BottleNeck(16*base_dim, 8*base_dim, 32*base_dim, self.act_fn),\n",
    "                        BottleNeck(32*base_dim, 8*base_dim, 32*base_dim, self.act_fn),\n",
    "                        BottleNeck(32*base_dim, 8*base_dim, 32*base_dim, self.act_fn),\n",
    "                        )\n",
    "        self.avgpool = nn.AvgPool2d(7, 1)\n",
    "        self.fc_layer = nn.Linear(32*base_dim, num_classes)\n",
    "        \n",
    "    def forward(self, x):\n",
    "        out = self.layer1(x)\n",
    "        out = self.layer2(out)\n",
    "        out = self.layer3(out)\n",
    "        out = self.layer4(out)\n",
    "        out = self.layer5(out)\n",
    "        out = self.avgpool(out)\n",
    "        out = out.view(batch_size, -1)\n",
    "        out = self.fc_layer(out)\n",
    "        return out"
   ]
  },
  {
   "cell_type": "code",
   "execution_count": 13,
   "metadata": {},
   "outputs": [],
   "source": [
    "model = ResNet(base_dim=64).to(device)"
   ]
  },
  {
   "cell_type": "code",
   "execution_count": 14,
   "metadata": {},
   "outputs": [
    {
     "data": {
      "text/plain": [
       "ResNet(\n",
       "  (act_fn): ReLU()\n",
       "  (layer1): Sequential(\n",
       "    (0): Conv2d(3, 64, kernel_size=(7, 7), stride=(2, 2), padding=(3, 3))\n",
       "    (1): ReLU()\n",
       "    (2): MaxPool2d(kernel_size=3, stride=2, padding=1, dilation=1, ceil_mode=False)\n",
       "  )\n",
       "  (layer2): Sequential(\n",
       "    (0): BottleNeck(\n",
       "      (layer): Sequential(\n",
       "        (0): Sequential(\n",
       "          (0): Conv2d(64, 64, kernel_size=(1, 1), stride=(1, 1))\n",
       "          (1): ReLU()\n",
       "        )\n",
       "        (1): Sequential(\n",
       "          (0): Conv2d(64, 64, kernel_size=(3, 3), stride=(1, 1), padding=(1, 1))\n",
       "          (1): ReLU()\n",
       "        )\n",
       "        (2): Sequential(\n",
       "          (0): Conv2d(64, 256, kernel_size=(1, 1), stride=(1, 1))\n",
       "          (1): ReLU()\n",
       "        )\n",
       "      )\n",
       "      (dim_equalizer): Conv2d(64, 256, kernel_size=(1, 1), stride=(1, 1))\n",
       "    )\n",
       "    (1): BottleNeck(\n",
       "      (layer): Sequential(\n",
       "        (0): Sequential(\n",
       "          (0): Conv2d(256, 64, kernel_size=(1, 1), stride=(1, 1))\n",
       "          (1): ReLU()\n",
       "        )\n",
       "        (1): Sequential(\n",
       "          (0): Conv2d(64, 64, kernel_size=(3, 3), stride=(1, 1), padding=(1, 1))\n",
       "          (1): ReLU()\n",
       "        )\n",
       "        (2): Sequential(\n",
       "          (0): Conv2d(64, 256, kernel_size=(1, 1), stride=(1, 1))\n",
       "          (1): ReLU()\n",
       "        )\n",
       "      )\n",
       "      (dim_equalizer): Conv2d(256, 256, kernel_size=(1, 1), stride=(1, 1))\n",
       "    )\n",
       "    (2): BottleNeck(\n",
       "      (layer): Sequential(\n",
       "        (0): Sequential(\n",
       "          (0): Conv2d(256, 64, kernel_size=(1, 1), stride=(2, 2))\n",
       "          (1): ReLU()\n",
       "        )\n",
       "        (1): Sequential(\n",
       "          (0): Conv2d(64, 64, kernel_size=(3, 3), stride=(1, 1), padding=(1, 1))\n",
       "          (1): ReLU()\n",
       "        )\n",
       "        (2): Sequential(\n",
       "          (0): Conv2d(64, 256, kernel_size=(1, 1), stride=(1, 1))\n",
       "          (1): ReLU()\n",
       "        )\n",
       "      )\n",
       "      (downsample): Conv2d(256, 256, kernel_size=(1, 1), stride=(2, 2))\n",
       "      (dim_equalizer): Conv2d(256, 256, kernel_size=(1, 1), stride=(1, 1))\n",
       "    )\n",
       "  )\n",
       "  (layer3): Sequential(\n",
       "    (0): BottleNeck(\n",
       "      (layer): Sequential(\n",
       "        (0): Sequential(\n",
       "          (0): Conv2d(256, 128, kernel_size=(1, 1), stride=(1, 1))\n",
       "          (1): ReLU()\n",
       "        )\n",
       "        (1): Sequential(\n",
       "          (0): Conv2d(128, 128, kernel_size=(3, 3), stride=(1, 1), padding=(1, 1))\n",
       "          (1): ReLU()\n",
       "        )\n",
       "        (2): Sequential(\n",
       "          (0): Conv2d(128, 512, kernel_size=(1, 1), stride=(1, 1))\n",
       "          (1): ReLU()\n",
       "        )\n",
       "      )\n",
       "      (dim_equalizer): Conv2d(256, 512, kernel_size=(1, 1), stride=(1, 1))\n",
       "    )\n",
       "    (1): BottleNeck(\n",
       "      (layer): Sequential(\n",
       "        (0): Sequential(\n",
       "          (0): Conv2d(512, 128, kernel_size=(1, 1), stride=(1, 1))\n",
       "          (1): ReLU()\n",
       "        )\n",
       "        (1): Sequential(\n",
       "          (0): Conv2d(128, 128, kernel_size=(3, 3), stride=(1, 1), padding=(1, 1))\n",
       "          (1): ReLU()\n",
       "        )\n",
       "        (2): Sequential(\n",
       "          (0): Conv2d(128, 512, kernel_size=(1, 1), stride=(1, 1))\n",
       "          (1): ReLU()\n",
       "        )\n",
       "      )\n",
       "      (dim_equalizer): Conv2d(512, 512, kernel_size=(1, 1), stride=(1, 1))\n",
       "    )\n",
       "    (2): BottleNeck(\n",
       "      (layer): Sequential(\n",
       "        (0): Sequential(\n",
       "          (0): Conv2d(512, 128, kernel_size=(1, 1), stride=(1, 1))\n",
       "          (1): ReLU()\n",
       "        )\n",
       "        (1): Sequential(\n",
       "          (0): Conv2d(128, 128, kernel_size=(3, 3), stride=(1, 1), padding=(1, 1))\n",
       "          (1): ReLU()\n",
       "        )\n",
       "        (2): Sequential(\n",
       "          (0): Conv2d(128, 512, kernel_size=(1, 1), stride=(1, 1))\n",
       "          (1): ReLU()\n",
       "        )\n",
       "      )\n",
       "      (dim_equalizer): Conv2d(512, 512, kernel_size=(1, 1), stride=(1, 1))\n",
       "    )\n",
       "    (3): BottleNeck(\n",
       "      (layer): Sequential(\n",
       "        (0): Sequential(\n",
       "          (0): Conv2d(512, 128, kernel_size=(1, 1), stride=(2, 2))\n",
       "          (1): ReLU()\n",
       "        )\n",
       "        (1): Sequential(\n",
       "          (0): Conv2d(128, 128, kernel_size=(3, 3), stride=(1, 1), padding=(1, 1))\n",
       "          (1): ReLU()\n",
       "        )\n",
       "        (2): Sequential(\n",
       "          (0): Conv2d(128, 512, kernel_size=(1, 1), stride=(1, 1))\n",
       "          (1): ReLU()\n",
       "        )\n",
       "      )\n",
       "      (downsample): Conv2d(512, 512, kernel_size=(1, 1), stride=(2, 2))\n",
       "      (dim_equalizer): Conv2d(512, 512, kernel_size=(1, 1), stride=(1, 1))\n",
       "    )\n",
       "  )\n",
       "  (layer4): Sequential(\n",
       "    (0): BottleNeck(\n",
       "      (layer): Sequential(\n",
       "        (0): Sequential(\n",
       "          (0): Conv2d(512, 256, kernel_size=(1, 1), stride=(1, 1))\n",
       "          (1): ReLU()\n",
       "        )\n",
       "        (1): Sequential(\n",
       "          (0): Conv2d(256, 256, kernel_size=(3, 3), stride=(1, 1), padding=(1, 1))\n",
       "          (1): ReLU()\n",
       "        )\n",
       "        (2): Sequential(\n",
       "          (0): Conv2d(256, 1024, kernel_size=(1, 1), stride=(1, 1))\n",
       "          (1): ReLU()\n",
       "        )\n",
       "      )\n",
       "      (dim_equalizer): Conv2d(512, 1024, kernel_size=(1, 1), stride=(1, 1))\n",
       "    )\n",
       "    (1): BottleNeck(\n",
       "      (layer): Sequential(\n",
       "        (0): Sequential(\n",
       "          (0): Conv2d(1024, 256, kernel_size=(1, 1), stride=(1, 1))\n",
       "          (1): ReLU()\n",
       "        )\n",
       "        (1): Sequential(\n",
       "          (0): Conv2d(256, 256, kernel_size=(3, 3), stride=(1, 1), padding=(1, 1))\n",
       "          (1): ReLU()\n",
       "        )\n",
       "        (2): Sequential(\n",
       "          (0): Conv2d(256, 1024, kernel_size=(1, 1), stride=(1, 1))\n",
       "          (1): ReLU()\n",
       "        )\n",
       "      )\n",
       "      (dim_equalizer): Conv2d(1024, 1024, kernel_size=(1, 1), stride=(1, 1))\n",
       "    )\n",
       "    (2): BottleNeck(\n",
       "      (layer): Sequential(\n",
       "        (0): Sequential(\n",
       "          (0): Conv2d(1024, 256, kernel_size=(1, 1), stride=(1, 1))\n",
       "          (1): ReLU()\n",
       "        )\n",
       "        (1): Sequential(\n",
       "          (0): Conv2d(256, 256, kernel_size=(3, 3), stride=(1, 1), padding=(1, 1))\n",
       "          (1): ReLU()\n",
       "        )\n",
       "        (2): Sequential(\n",
       "          (0): Conv2d(256, 1024, kernel_size=(1, 1), stride=(1, 1))\n",
       "          (1): ReLU()\n",
       "        )\n",
       "      )\n",
       "      (dim_equalizer): Conv2d(1024, 1024, kernel_size=(1, 1), stride=(1, 1))\n",
       "    )\n",
       "    (3): BottleNeck(\n",
       "      (layer): Sequential(\n",
       "        (0): Sequential(\n",
       "          (0): Conv2d(1024, 256, kernel_size=(1, 1), stride=(1, 1))\n",
       "          (1): ReLU()\n",
       "        )\n",
       "        (1): Sequential(\n",
       "          (0): Conv2d(256, 256, kernel_size=(3, 3), stride=(1, 1), padding=(1, 1))\n",
       "          (1): ReLU()\n",
       "        )\n",
       "        (2): Sequential(\n",
       "          (0): Conv2d(256, 1024, kernel_size=(1, 1), stride=(1, 1))\n",
       "          (1): ReLU()\n",
       "        )\n",
       "      )\n",
       "      (dim_equalizer): Conv2d(1024, 1024, kernel_size=(1, 1), stride=(1, 1))\n",
       "    )\n",
       "    (4): BottleNeck(\n",
       "      (layer): Sequential(\n",
       "        (0): Sequential(\n",
       "          (0): Conv2d(1024, 256, kernel_size=(1, 1), stride=(1, 1))\n",
       "          (1): ReLU()\n",
       "        )\n",
       "        (1): Sequential(\n",
       "          (0): Conv2d(256, 256, kernel_size=(3, 3), stride=(1, 1), padding=(1, 1))\n",
       "          (1): ReLU()\n",
       "        )\n",
       "        (2): Sequential(\n",
       "          (0): Conv2d(256, 1024, kernel_size=(1, 1), stride=(1, 1))\n",
       "          (1): ReLU()\n",
       "        )\n",
       "      )\n",
       "      (dim_equalizer): Conv2d(1024, 1024, kernel_size=(1, 1), stride=(1, 1))\n",
       "    )\n",
       "    (5): BottleNeck(\n",
       "      (layer): Sequential(\n",
       "        (0): Sequential(\n",
       "          (0): Conv2d(1024, 256, kernel_size=(1, 1), stride=(2, 2))\n",
       "          (1): ReLU()\n",
       "        )\n",
       "        (1): Sequential(\n",
       "          (0): Conv2d(256, 256, kernel_size=(3, 3), stride=(1, 1), padding=(1, 1))\n",
       "          (1): ReLU()\n",
       "        )\n",
       "        (2): Sequential(\n",
       "          (0): Conv2d(256, 1024, kernel_size=(1, 1), stride=(1, 1))\n",
       "          (1): ReLU()\n",
       "        )\n",
       "      )\n",
       "      (downsample): Conv2d(1024, 1024, kernel_size=(1, 1), stride=(2, 2))\n",
       "      (dim_equalizer): Conv2d(1024, 1024, kernel_size=(1, 1), stride=(1, 1))\n",
       "    )\n",
       "  )\n",
       "  (layer5): Sequential(\n",
       "    (0): BottleNeck(\n",
       "      (layer): Sequential(\n",
       "        (0): Sequential(\n",
       "          (0): Conv2d(1024, 512, kernel_size=(1, 1), stride=(1, 1))\n",
       "          (1): ReLU()\n",
       "        )\n",
       "        (1): Sequential(\n",
       "          (0): Conv2d(512, 512, kernel_size=(3, 3), stride=(1, 1), padding=(1, 1))\n",
       "          (1): ReLU()\n",
       "        )\n",
       "        (2): Sequential(\n",
       "          (0): Conv2d(512, 2048, kernel_size=(1, 1), stride=(1, 1))\n",
       "          (1): ReLU()\n",
       "        )\n",
       "      )\n",
       "      (dim_equalizer): Conv2d(1024, 2048, kernel_size=(1, 1), stride=(1, 1))\n",
       "    )\n",
       "    (1): BottleNeck(\n",
       "      (layer): Sequential(\n",
       "        (0): Sequential(\n",
       "          (0): Conv2d(2048, 512, kernel_size=(1, 1), stride=(1, 1))\n",
       "          (1): ReLU()\n",
       "        )\n",
       "        (1): Sequential(\n",
       "          (0): Conv2d(512, 512, kernel_size=(3, 3), stride=(1, 1), padding=(1, 1))\n",
       "          (1): ReLU()\n",
       "        )\n",
       "        (2): Sequential(\n",
       "          (0): Conv2d(512, 2048, kernel_size=(1, 1), stride=(1, 1))\n",
       "          (1): ReLU()\n",
       "        )\n",
       "      )\n",
       "      (dim_equalizer): Conv2d(2048, 2048, kernel_size=(1, 1), stride=(1, 1))\n",
       "    )\n",
       "    (2): BottleNeck(\n",
       "      (layer): Sequential(\n",
       "        (0): Sequential(\n",
       "          (0): Conv2d(2048, 512, kernel_size=(1, 1), stride=(1, 1))\n",
       "          (1): ReLU()\n",
       "        )\n",
       "        (1): Sequential(\n",
       "          (0): Conv2d(512, 512, kernel_size=(3, 3), stride=(1, 1), padding=(1, 1))\n",
       "          (1): ReLU()\n",
       "        )\n",
       "        (2): Sequential(\n",
       "          (0): Conv2d(512, 2048, kernel_size=(1, 1), stride=(1, 1))\n",
       "          (1): ReLU()\n",
       "        )\n",
       "      )\n",
       "      (dim_equalizer): Conv2d(2048, 2048, kernel_size=(1, 1), stride=(1, 1))\n",
       "    )\n",
       "  )\n",
       "  (avgpool): AvgPool2d(kernel_size=7, stride=1, padding=0)\n",
       "  (fc_layer): Linear(in_features=2048, out_features=2, bias=True)\n",
       ")"
      ]
     },
     "execution_count": 14,
     "metadata": {},
     "output_type": "execute_result"
    }
   ],
   "source": [
    "model"
   ]
  },
  {
   "cell_type": "markdown",
   "metadata": {},
   "source": [
    "#### loss"
   ]
  },
  {
   "cell_type": "code",
   "execution_count": 15,
   "metadata": {},
   "outputs": [],
   "source": [
    "loss_func = nn.CrossEntropyLoss()"
   ]
  },
  {
   "cell_type": "markdown",
   "metadata": {},
   "source": [
    "#### optimizer"
   ]
  },
  {
   "cell_type": "code",
   "execution_count": 16,
   "metadata": {},
   "outputs": [],
   "source": [
    "optimizer = optim.Adam(model.parameters(), lr=learning_rate)"
   ]
  },
  {
   "cell_type": "markdown",
   "metadata": {},
   "source": [
    "#### train"
   ]
  },
  {
   "cell_type": "code",
   "execution_count": 17,
   "metadata": {},
   "outputs": [
    {
     "name": "stdout",
     "output_type": "stream",
     "text": [
      "tensor(0.5117, device='cuda:0', grad_fn=<NllLossBackward>)\n",
      "tensor(0.4462, device='cuda:0', grad_fn=<NllLossBackward>)\n",
      "tensor(0.4184, device='cuda:0', grad_fn=<NllLossBackward>)\n",
      "tensor(0.4450, device='cuda:0', grad_fn=<NllLossBackward>)\n",
      "tensor(0.4093, device='cuda:0', grad_fn=<NllLossBackward>)\n",
      "tensor(0.4338, device='cuda:0', grad_fn=<NllLossBackward>)\n",
      "tensor(0.4135, device='cuda:0', grad_fn=<NllLossBackward>)\n",
      "tensor(0.4144, device='cuda:0', grad_fn=<NllLossBackward>)\n",
      "tensor(1.0781, device='cuda:0', grad_fn=<NllLossBackward>)\n",
      "tensor(0.4336, device='cuda:0', grad_fn=<NllLossBackward>)\n"
     ]
    }
   ],
   "source": [
    "loss_array = []\n",
    "for i in range(num_epoch):\n",
    "    for j, [image, label] in enumerate(train_loader):\n",
    "        x = image.to(device)\n",
    "        y_ = label.to(device)\n",
    "        \n",
    "        optimizer.zero_grad()\n",
    "        output = model.forward(x)\n",
    "        loss = loss_func(output, y_)\n",
    "        loss.backward()\n",
    "        optimizer.step()\n",
    "    \n",
    "    if i%10 == 0:\n",
    "        print(loss)\n",
    "        loss_array.append(loss)"
   ]
  },
  {
   "cell_type": "markdown",
   "metadata": {},
   "source": [
    "#### plot"
   ]
  },
  {
   "cell_type": "code",
   "execution_count": 18,
   "metadata": {
    "collapsed": true
   },
   "outputs": [
    {
     "data": {
      "image/png": "[encoded data removed]",
      "text/plain": [
       "<Figure size 432x288 with 1 Axes>"
      ]
     },
     "metadata": {
      "needs_background": "light"
     },
     "output_type": "display_data"
    }
   ],
   "source": [
    "plt.plot(loss_array)\n",
    "plt.show()"
   ]
  },
  {
   "cell_type": "code",
   "execution_count": null,
   "metadata": {},
   "outputs": [],
   "source": []
  }
 ],
 "metadata": {
  "kernelspec": {
   "display_name": "Python 3",
   "language": "python",
   "name": "python3"
  },
  "language_info": {
   "codemirror_mode": {
    "name": "ipython",
    "version": 3
   },
   "file_extension": ".py",
   "mimetype": "text/x-python",
   "name": "python",
   "nbconvert_exporter": "python",
   "pygments_lexer": "ipython3",
   "version": "3.8.5"
  }
 },
 "nbformat": 4,
 "nbformat_minor": 4
}
