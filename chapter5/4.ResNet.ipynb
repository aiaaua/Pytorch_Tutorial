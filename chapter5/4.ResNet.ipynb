{
 "cells": [
  {
   "cell_type": "markdown",
   "metadata": {},
   "source": [
    "#### download"
   ]
  },
  {
   "cell_type": "code",
   "execution_count": 1,
   "metadata": {},
   "outputs": [],
   "source": [
    "import os\n",
    "\n",
    "try:\n",
    "    os.mkdir(\"images\")\n",
    "    os.mkdir(\"images/dogs\")\n",
    "    os.mkdir(\"images/cats\")\n",
    "except:\n",
    "    pass"
   ]
  },
  {
   "cell_type": "code",
   "execution_count": 2,
   "metadata": {},
   "outputs": [
    {
     "name": "stdout",
     "output_type": "stream",
     "text": [
      "--2021-02-05 17:33:02--  https://i.kinja-img.com/gawker-media/image/upload/s--WFkXeene--/c_scale,f_auto,fl_progressive,q_80,w_800/ol9ceoqxidudap8owlwn.jpg\n",
      "Resolving i.kinja-img.com (i.kinja-img.com)... 151.101.194.166, 151.101.66.166, 151.101.130.166, ...\n",
      "접속 i.kinja-img.com (i.kinja-img.com)|151.101.194.166|:443... 접속됨.\n",
      "HTTP request sent, awaiting response... 200 OK\n",
      "Length: 32099 (31K) [image/jpeg]\n",
      "Saving to: ‘images/dogs/ol9ceoqxidudap8owlwn.jpg’\n",
      "\n",
      "ol9ceoqxidudap8owlw 100%[===================>]  31.35K  --.-KB/s    in 0.03s   \n",
      "\n",
      "2021-02-05 17:33:02 (963 KB/s) - ‘images/dogs/ol9ceoqxidudap8owlwn.jpg’ saved [32099/32099]\n",
      "\n",
      "--2021-02-05 17:33:02--  https://www.rspcansw.org.au/wp-content/uploads/2017/08/50_a-feature_dogs-and-puppies_mobile.jpg\n",
      "Resolving www.rspcansw.org.au (www.rspcansw.org.au)... 101.0.86.38\n",
      "접속 www.rspcansw.org.au (www.rspcansw.org.au)|101.0.86.38|:443... 접속됨.\n",
      "HTTP request sent, awaiting response... 200 OK\n",
      "Length: 130940 (128K) [image/jpeg]\n",
      "Saving to: ‘images/dogs/50_a-feature_dogs-and-puppies_mobile.jpg’\n",
      "\n",
      "50_a-feature_dogs-a 100%[===================>] 127.87K   220KB/s    in 0.6s    \n",
      "\n",
      "2021-02-05 17:33:05 (220 KB/s) - ‘images/dogs/50_a-feature_dogs-and-puppies_mobile.jpg’ saved [130940/130940]\n",
      "\n"
     ]
    }
   ],
   "source": [
    "!wget https://i.kinja-img.com/gawker-media/image/upload/s--WFkXeene--/c_scale,f_auto,fl_progressive,q_80,w_800/ol9ceoqxidudap8owlwn.jpg -P images/dogs\n",
    "!wget https://www.rspcansw.org.au/wp-content/uploads/2017/08/50_a-feature_dogs-and-puppies_mobile.jpg -P images/dogs"
   ]
  },
  {
   "cell_type": "code",
   "execution_count": 3,
   "metadata": {},
   "outputs": [
    {
     "name": "stdout",
     "output_type": "stream",
     "text": [
      "--2021-02-05 17:33:06--  https://www.catster.com/wp-content/uploads/2018/05/A-gray-cat-crying-looking-upset.jpg\n",
      "Resolving www.catster.com (www.catster.com)... 192.124.249.102\n",
      "접속 www.catster.com (www.catster.com)|192.124.249.102|:443... 접속됨.\n",
      "HTTP request sent, awaiting response... 200 OK\n",
      "Length: 165145 (161K) [image/jpeg]\n",
      "Saving to: ‘images/cats/A-gray-cat-crying-looking-upset.jpg’\n",
      "\n",
      "A-gray-cat-crying-l 100%[===================>] 161.27K   614KB/s    in 0.3s    \n",
      "\n",
      "2021-02-05 17:33:06 (614 KB/s) - ‘images/cats/A-gray-cat-crying-looking-upset.jpg’ saved [165145/165145]\n",
      "\n",
      "--2021-02-05 17:33:06--  https://www.scarymommy.com/wp-content/uploads/2018/01/c1.jpg?w=700\n",
      "Resolving www.scarymommy.com (www.scarymommy.com)... 141.193.213.21, 141.193.213.20\n",
      "접속 www.scarymommy.com (www.scarymommy.com)|141.193.213.21|:443... 접속됨.\n",
      "HTTP request sent, awaiting response... 200 OK\n",
      "Length: 1892233 (1.8M) [image/jpeg]\n",
      "Saving to: ‘images/cats/c1.jpg?w=700’\n",
      "\n",
      "c1.jpg?w=700        100%[===================>]   1.80M  1.93MB/s    in 0.9s    \n",
      "\n",
      "2021-02-05 17:33:08 (1.93 MB/s) - ‘images/cats/c1.jpg?w=700’ saved [1892233/1892233]\n",
      "\n"
     ]
    }
   ],
   "source": [
    "!wget https://www.catster.com/wp-content/uploads/2018/05/A-gray-cat-crying-looking-upset.jpg -P images/cats\n",
    "!wget https://www.scarymommy.com/wp-content/uploads/2018/01/c1.jpg?w=700 -P images/cats"
   ]
  },
  {
   "cell_type": "markdown",
   "metadata": {},
   "source": [
    "#### module"
   ]
  },
  {
   "cell_type": "code",
   "execution_count": 4,
   "metadata": {},
   "outputs": [],
   "source": [
    "import numpy as np\n",
    "import matplotlib.pyplot as plt\n",
    "import torch\n",
    "import torch.nn as nn\n",
    "import torch.optim as optim\n",
    "import torch.nn.init as init\n",
    "import torch.utils.data as data\n",
    "import torchvision.datasets as dset\n",
    "import torchvision.transforms as transforms"
   ]
  },
  {
   "cell_type": "code",
   "execution_count": 5,
   "metadata": {},
   "outputs": [
    {
     "data": {
      "text/plain": [
       "device(type='cuda', index=0)"
      ]
     },
     "execution_count": 5,
     "metadata": {},
     "output_type": "execute_result"
    }
   ],
   "source": [
    "device = torch.device(\"cuda:0\" if torch.cuda.is_available() else \"cpu\")\n",
    "device"
   ]
  },
  {
   "cell_type": "markdown",
   "metadata": {},
   "source": [
    "#### hyper-parameters"
   ]
  },
  {
   "cell_type": "code",
   "execution_count": 6,
   "metadata": {},
   "outputs": [],
   "source": [
    "batch_size = 1\n",
    "learning_rate = 0.0002\n",
    "num_epoch = 100"
   ]
  },
  {
   "cell_type": "markdown",
   "metadata": {},
   "source": [
    "#### dataset"
   ]
  },
  {
   "cell_type": "code",
   "execution_count": 7,
   "metadata": {},
   "outputs": [],
   "source": [
    "root_dir = \"./images\""
   ]
  },
  {
   "cell_type": "code",
   "execution_count": 8,
   "metadata": {},
   "outputs": [],
   "source": [
    "img_data = dset.ImageFolder(root_dir, transforms.Compose([\n",
    "                                    transforms.Resize(256),\n",
    "                                    transforms.RandomResizedCrop(224),\n",
    "                                    transforms.RandomHorizontalFlip(),\n",
    "                                    transforms.ToTensor(),\n",
    "                            ]))"
   ]
  },
  {
   "cell_type": "code",
   "execution_count": 9,
   "metadata": {},
   "outputs": [],
   "source": [
    "train_loader = data.DataLoader(img_data, batch_size=batch_size, shuffle=True, num_workers=2)"
   ]
  },
  {
   "cell_type": "markdown",
   "metadata": {},
   "source": [
    "#### model"
   ]
  },
  {
   "cell_type": "code",
   "execution_count": 10,
   "metadata": {},
   "outputs": [],
   "source": [
    "# 1*1 합성곱\n",
    "def conv_block_1(in_dim, out_dim, act_fn, stride=1):\n",
    "    model = nn.Sequential(\n",
    "            nn.Conv2d(in_dim, out_dim, kernel_size=1, stride=stride),\n",
    "            act_fn,\n",
    "            )\n",
    "    return model\n",
    "\n",
    "def conv_block_3(in_dim, out_dim, act_fn):\n",
    "    model = nn.Sequential(\n",
    "            nn.Conv2d(in_dim, out_dim, kernel_size=3, stride=1, padding=1),\n",
    "            act_fn,\n",
    "            )\n",
    "    return model"
   ]
  },
  {
   "cell_type": "code",
   "execution_count": 14,
   "metadata": {},
   "outputs": [],
   "source": [
    "class BottleNeck(nn.Module):\n",
    "    def __init__(self, in_dim, mid_dim, out_dim, act_fn, down=False):\n",
    "        super(BottleNeck, self).__init__()\n",
    "        self.down = down\n",
    "        \n",
    "        if self.down:\n",
    "            self.layer = nn.Sequential(\n",
    "                            conv_block_1(in_dim, mid_dim, act_fn, 2),\n",
    "                            conv_block_3(mid_dim, mid_dim, act_fn),\n",
    "                            conv_block_1(mid_dim, out_dim, act_fn),\n",
    "                            )\n",
    "            self.downsample = nn.Conv2d(in_dim, out_dim, 1, 2)\n",
    "        \n",
    "        else:\n",
    "            self.layer = nn.Sequential(\n",
    "                            conv_block_1(in_dim, mid_dim, act_fn),\n",
    "                            conv_block_3(mid_dim, mid_dim, act_fn),\n",
    "                            conv_block_1(mid_dim, out_dim, act_fn),\n",
    "                            )\n",
    "            \n",
    "        self.dim_equalizer = nn.Conv2d(in_dim, out_dim, kernel_size=1)\n",
    "        \n",
    "    def forward(self, x):\n",
    "        if self.down:\n",
    "            downsample = self.downsample(x)\n",
    "            out = self.layer(x)\n",
    "            out = out + downsample\n",
    "        \n",
    "        else:\n",
    "            out = self.layer(x)\n",
    "            if x.size() is not out.size():\n",
    "                x = self.dim_equalizer(x)\n",
    "            out = out + x\n",
    "        return out"
   ]
  },
  {
   "cell_type": "code",
   "execution_count": 15,
   "metadata": {},
   "outputs": [],
   "source": [
    "class ResNet(nn.Module):\n",
    "    def __init__(self, base_dim, num_classes=2):\n",
    "        super(ResNet, self).__init__()\n",
    "        self.act_fn = nn.ReLU()\n",
    "        self.layer1 = nn.Sequential(\n",
    "                        nn.Conv2d(3, base_dim, 7, 2, 3),\n",
    "                        nn.ReLU(),\n",
    "                        nn.MaxPool2d(3, 2, 1),\n",
    "                        )\n",
    "        self.layer2 = nn.Sequential(\n",
    "                        BottleNeck(base_dim, base_dim, 4*base_dim, self.act_fn),\n",
    "                        BottleNeck(4*base_dim, base_dim, 4*base_dim, self.act_fn),\n",
    "                        BottleNeck(4*base_dim, base_dim, 4*base_dim, self.act_fn, down=True),\n",
    "                        )\n",
    "        self.layer3 = nn.Sequential(\n",
    "                        BottleNeck(4*base_dim, 2*base_dim, 8*base_dim, self.act_fn),\n",
    "                        BottleNeck(8*base_dim, 2*base_dim, 8*base_dim, self.act_fn),\n",
    "                        BottleNeck(8*base_dim, 2*base_dim, 8*base_dim, self.act_fn),\n",
    "                        BottleNeck(8*base_dim, 2*base_dim, 8*base_dim, self.act_fn, down=True),\n",
    "                        )\n",
    "        self.layer4 = nn.Sequential(\n",
    "                        BottleNeck(8*base_dim, 4*base_dim, 16*base_dim, self.act_fn),\n",
    "                        BottleNeck(16*base_dim, 4*base_dim, 16*base_dim, self.act_fn),\n",
    "                        BottleNeck(16*base_dim, 4*base_dim, 16*base_dim, self.act_fn),\n",
    "                        BottleNeck(16*base_dim, 4*base_dim, 16*base_dim, self.act_fn),\n",
    "                        BottleNeck(16*base_dim, 4*base_dim, 16*base_dim, self.act_fn),\n",
    "                        BottleNeck(16*base_dim, 4*base_dim, 16*base_dim, self.act_fn, down=True),\n",
    "                        )\n",
    "        self.layer5 = nn.Sequential(\n",
    "                        BottleNeck(16*base_dim, 8*base_dim, 32*base_dim, self.act_fn),\n",
    "                        BottleNeck(32*base_dim, 8*base_dim, 32*base_dim, self.act_fn),\n",
    "                        BottleNeck(32*base_dim, 8*base_dim, 32*base_dim, self.act_fn),\n",
    "                        )\n",
    "        self.avgpool = nn.AvgPool2d(7, 1)\n",
    "        self.fc_layer = nn.Linear(32*base_dim, num_classes)\n",
    "        \n",
    "    def forward(self, x):\n",
    "        out = self.layer1(x)\n",
    "        out = self.layer2(out)\n",
    "        out = self.layer3(out)\n",
    "        out = self.layer4(out)\n",
    "        out = self.layer5(out)\n",
    "        out = self.avgpool(out)\n",
    "        out = out.view(batch_size, -1)\n",
    "        out = self.fc_layer(out)\n",
    "        return out"
   ]
  },
  {
   "cell_type": "code",
   "execution_count": 13,
   "metadata": {},
   "outputs": [
    {
     "ename": "NameError",
     "evalue": "name 'BollteNeck' is not defined",
     "output_type": "error",
     "traceback": [
      "\u001b[0;31m---------------------------------------------------------------------------\u001b[0m",
      "\u001b[0;31mNameError\u001b[0m                                 Traceback (most recent call last)",
      "\u001b[0;32m<ipython-input-13-6d3d56756b59>\u001b[0m in \u001b[0;36m<module>\u001b[0;34m\u001b[0m\n\u001b[0;32m----> 1\u001b[0;31m \u001b[0mmodel\u001b[0m \u001b[0;34m=\u001b[0m \u001b[0mResNet\u001b[0m\u001b[0;34m(\u001b[0m\u001b[0mbase_dim\u001b[0m\u001b[0;34m=\u001b[0m\u001b[0;36m64\u001b[0m\u001b[0;34m)\u001b[0m\u001b[0;34m.\u001b[0m\u001b[0mto\u001b[0m\u001b[0;34m(\u001b[0m\u001b[0mdevice\u001b[0m\u001b[0;34m)\u001b[0m\u001b[0;34m\u001b[0m\u001b[0;34m\u001b[0m\u001b[0m\n\u001b[0m",
      "\u001b[0;32m<ipython-input-12-d10a4fb04bcc>\u001b[0m in \u001b[0;36m__init__\u001b[0;34m(self, base_dim, num_classes)\u001b[0m\n\u001b[1;32m      9\u001b[0m                         )\n\u001b[1;32m     10\u001b[0m         self.layer2 = nn.Sequential(\n\u001b[0;32m---> 11\u001b[0;31m                         \u001b[0mBottleNeck\u001b[0m\u001b[0;34m(\u001b[0m\u001b[0mbase_dim\u001b[0m\u001b[0;34m,\u001b[0m \u001b[0mbase_dim\u001b[0m\u001b[0;34m,\u001b[0m \u001b[0;36m4\u001b[0m\u001b[0;34m*\u001b[0m\u001b[0mbase_dim\u001b[0m\u001b[0;34m,\u001b[0m \u001b[0mself\u001b[0m\u001b[0;34m.\u001b[0m\u001b[0mact_fn\u001b[0m\u001b[0;34m)\u001b[0m\u001b[0;34m,\u001b[0m\u001b[0;34m\u001b[0m\u001b[0;34m\u001b[0m\u001b[0m\n\u001b[0m\u001b[1;32m     12\u001b[0m                         \u001b[0mBottleNeck\u001b[0m\u001b[0;34m(\u001b[0m\u001b[0;36m4\u001b[0m\u001b[0;34m*\u001b[0m\u001b[0mbase_dim\u001b[0m\u001b[0;34m,\u001b[0m \u001b[0mbase_dim\u001b[0m\u001b[0;34m,\u001b[0m \u001b[0;36m4\u001b[0m\u001b[0;34m*\u001b[0m\u001b[0mbase_dim\u001b[0m\u001b[0;34m,\u001b[0m \u001b[0mself\u001b[0m\u001b[0;34m.\u001b[0m\u001b[0mact_fn\u001b[0m\u001b[0;34m)\u001b[0m\u001b[0;34m,\u001b[0m\u001b[0;34m\u001b[0m\u001b[0;34m\u001b[0m\u001b[0m\n\u001b[1;32m     13\u001b[0m                         \u001b[0mBottleNeck\u001b[0m\u001b[0;34m(\u001b[0m\u001b[0;36m4\u001b[0m\u001b[0;34m*\u001b[0m\u001b[0mbase_dim\u001b[0m\u001b[0;34m,\u001b[0m \u001b[0mbase_dim\u001b[0m\u001b[0;34m,\u001b[0m \u001b[0;36m4\u001b[0m\u001b[0;34m*\u001b[0m\u001b[0mbase_dim\u001b[0m\u001b[0;34m,\u001b[0m \u001b[0mself\u001b[0m\u001b[0;34m.\u001b[0m\u001b[0mact_fn\u001b[0m\u001b[0;34m,\u001b[0m \u001b[0mdown\u001b[0m\u001b[0;34m=\u001b[0m\u001b[0;32mTrue\u001b[0m\u001b[0;34m)\u001b[0m\u001b[0;34m,\u001b[0m\u001b[0;34m\u001b[0m\u001b[0;34m\u001b[0m\u001b[0m\n",
      "\u001b[0;32m<ipython-input-11-ff3658c7ab89>\u001b[0m in \u001b[0;36m__init__\u001b[0;34m(self, in_dim, mid_dim, out_dim, act_fn, down)\u001b[0m\n\u001b[1;32m      1\u001b[0m \u001b[0;32mclass\u001b[0m \u001b[0mBottleNeck\u001b[0m\u001b[0;34m(\u001b[0m\u001b[0mnn\u001b[0m\u001b[0;34m.\u001b[0m\u001b[0mModule\u001b[0m\u001b[0;34m)\u001b[0m\u001b[0;34m:\u001b[0m\u001b[0;34m\u001b[0m\u001b[0;34m\u001b[0m\u001b[0m\n\u001b[1;32m      2\u001b[0m     \u001b[0;32mdef\u001b[0m \u001b[0m__init__\u001b[0m\u001b[0;34m(\u001b[0m\u001b[0mself\u001b[0m\u001b[0;34m,\u001b[0m \u001b[0min_dim\u001b[0m\u001b[0;34m,\u001b[0m \u001b[0mmid_dim\u001b[0m\u001b[0;34m,\u001b[0m \u001b[0mout_dim\u001b[0m\u001b[0;34m,\u001b[0m \u001b[0mact_fn\u001b[0m\u001b[0;34m,\u001b[0m \u001b[0mdown\u001b[0m\u001b[0;34m=\u001b[0m\u001b[0;32mFalse\u001b[0m\u001b[0;34m)\u001b[0m\u001b[0;34m:\u001b[0m\u001b[0;34m\u001b[0m\u001b[0;34m\u001b[0m\u001b[0m\n\u001b[0;32m----> 3\u001b[0;31m         \u001b[0msuper\u001b[0m\u001b[0;34m(\u001b[0m\u001b[0mBollteNeck\u001b[0m\u001b[0;34m,\u001b[0m \u001b[0mself\u001b[0m\u001b[0;34m)\u001b[0m\u001b[0;34m.\u001b[0m\u001b[0m__init__\u001b[0m\u001b[0;34m(\u001b[0m\u001b[0;34m)\u001b[0m\u001b[0;34m\u001b[0m\u001b[0;34m\u001b[0m\u001b[0m\n\u001b[0m\u001b[1;32m      4\u001b[0m         \u001b[0mself\u001b[0m\u001b[0;34m.\u001b[0m\u001b[0mdown\u001b[0m \u001b[0;34m=\u001b[0m \u001b[0mdown\u001b[0m\u001b[0;34m\u001b[0m\u001b[0;34m\u001b[0m\u001b[0m\n\u001b[1;32m      5\u001b[0m \u001b[0;34m\u001b[0m\u001b[0m\n",
      "\u001b[0;31mNameError\u001b[0m: name 'BollteNeck' is not defined"
     ]
    }
   ],
   "source": [
    "model = ResNet(base_dim=64).to(device)"
   ]
  },
  {
   "cell_type": "code",
   "execution_count": null,
   "metadata": {},
   "outputs": [],
   "source": [
    "model"
   ]
  },
  {
   "cell_type": "markdown",
   "metadata": {},
   "source": [
    "#### loss"
   ]
  },
  {
   "cell_type": "code",
   "execution_count": null,
   "metadata": {},
   "outputs": [],
   "source": [
    "loss_func = nn.CrossEntropyLoss()"
   ]
  },
  {
   "cell_type": "markdown",
   "metadata": {},
   "source": [
    "#### optimizer"
   ]
  },
  {
   "cell_type": "code",
   "execution_count": null,
   "metadata": {},
   "outputs": [],
   "source": [
    "optimizer = optim.Adam(model.parameters(), lr=learning_rate)"
   ]
  },
  {
   "cell_type": "markdown",
   "metadata": {},
   "source": [
    "#### train"
   ]
  },
  {
   "cell_type": "code",
   "execution_count": null,
   "metadata": {},
   "outputs": [],
   "source": [
    "loss_array = []\n",
    "for i in range(num_epoch):\n",
    "    for j, [image, label] in enumerate(train_loader):\n",
    "        x = image.to(device)\n",
    "        y_ = label.to(device)\n",
    "        \n",
    "        optimizer.zero_grad()\n",
    "        output = model.forward(x)\n",
    "        loss = loss_func(output, y_)\n",
    "        loss.backward()\n",
    "        optimizer.step()\n",
    "    \n",
    "    if i%10 == 0:\n",
    "        print(loss)\n",
    "        loss_array.append(loss)"
   ]
  },
  {
   "cell_type": "markdown",
   "metadata": {},
   "source": [
    "#### plot"
   ]
  },
  {
   "cell_type": "code",
   "execution_count": null,
   "metadata": {},
   "outputs": [],
   "source": [
    "plt.plot(loss_array)\n",
    "plt.show()"
   ]
  },
  {
   "cell_type": "code",
   "execution_count": null,
   "metadata": {},
   "outputs": [],
   "source": []
  }
 ],
 "metadata": {
  "kernelspec": {
   "display_name": "Python 3",
   "language": "python",
   "name": "python3"
  },
  "language_info": {
   "codemirror_mode": {
    "name": "ipython",
    "version": 3
   },
   "file_extension": ".py",
   "mimetype": "text/x-python",
   "name": "python",
   "nbconvert_exporter": "python",
   "pygments_lexer": "ipython3",
   "version": "3.8.5"
  }
 },
 "nbformat": 4,
 "nbformat_minor": 4
}
